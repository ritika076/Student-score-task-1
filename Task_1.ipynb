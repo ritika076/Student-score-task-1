{
 "cells": [
  {
   "cell_type": "markdown",
   "id": "mexican-bahrain",
   "metadata": {},
   "source": [
    "# Prediction using Supervised ML - STUDENT SCORE #TASK1\n",
    "### Author:- Ritika Bhardwaj\n",
    "### Data science and buisness analytics internship @SPARKS_FOUNDATION\n",
    "### SIMPLE LINEAR REGRESSION #TASK1 In this task we will predict the marks percentage that a student is expected based on the hours of studied.¶\n"
   ]
  },
  {
   "cell_type": "code",
   "execution_count": null,
   "id": "allied-arbor",
   "metadata": {},
   "outputs": [],
   "source": [
    "#Importing important libraries\n",
    "import numpy as np\n",
    "import pandas as pd\n",
    "import matplotlib.pyplot as plt"
   ]
  },
  {
   "cell_type": "code",
   "execution_count": null,
   "id": "light-penetration",
   "metadata": {},
   "outputs": [],
   "source": [
    "#Reading data\n",
    "df = pd.read_csv(\"data1.csv\")"
   ]
  },
  {
   "cell_type": "code",
   "execution_count": null,
   "id": "legendary-generator",
   "metadata": {},
   "outputs": [],
   "source": [
    "df.head()"
   ]
  },
  {
   "cell_type": "code",
   "execution_count": null,
   "id": "external-documentation",
   "metadata": {},
   "outputs": [],
   "source": [
    "#Checking for Null Values\n",
    "df.isnull().sum()"
   ]
  },
  {
   "cell_type": "code",
   "execution_count": null,
   "id": "prescribed-significance",
   "metadata": {},
   "outputs": [],
   "source": [
    "# Ploting Graph to show Relationship between dataset attributes HOURS and SCORES \n",
    "plt.scatter(x= df.Hours , y= df.Scores , c= 'red' )\n",
    "plt.xlabel(\"HOURS\")\n",
    "plt.ylabel(\"SCORES\")\n",
    "plt.title(\"HOURS VS SCORES\")\n",
    "plt.show()"
   ]
  },
  {
   "cell_type": "code",
   "execution_count": null,
   "id": "further-above",
   "metadata": {},
   "outputs": [],
   "source": [
    "#SPLITTING THE DATA INTO FEATURES & LABELS\n",
    "X = df.iloc[:,0].values\n",
    "Y = df.iloc[:,1].values"
   ]
  },
  {
   "cell_type": "code",
   "execution_count": null,
   "id": "elementary-combine",
   "metadata": {},
   "outputs": [],
   "source": [
    "#splitting the dataset into training & testing \n",
    "from sklearn.model_selection import train_test_split\n",
    "x_train , x_test , y_train , y_test = train_test_split(X,Y,test_size=0.2)"
   ]
  },
  {
   "cell_type": "code",
   "execution_count": null,
   "id": "eight-container",
   "metadata": {},
   "outputs": [],
   "source": [
    "#TRAINING THE MODEL \n",
    "from sklearn.linear_model import LinearRegression  \n",
    "reg = LinearRegression()  \n",
    "reg.fit(x_train.reshape(-1,1), y_train) \n",
    "print(\"Training complete.\")"
   ]
  },
  {
   "cell_type": "code",
   "execution_count": null,
   "id": "complimentary-coaching",
   "metadata": {},
   "outputs": [],
   "source": [
    "# Plotting the regression line\n",
    "line = reg.coef_*X+reg.intercept_\n",
    "# Plotting for the test data\n",
    "plt.scatter(X, Y,color=\"red\")\n",
    "plt.plot(X, line);\n",
    "plt.show()"
   ]
  },
  {
   "cell_type": "code",
   "execution_count": null,
   "id": "bridal-integral",
   "metadata": {},
   "outputs": [],
   "source": [
    "#FINDING THE ACCURACY OF TRAINED MODEL\n",
    "reg.score(x_train.reshape(-1,1), y_train)"
   ]
  },
  {
   "cell_type": "code",
   "execution_count": null,
   "id": "alike-syria",
   "metadata": {},
   "outputs": [],
   "source": [
    "#FINDING THE PREDICTIONS\n",
    "y_pred = reg.predict(x_test.reshape(-1,1))"
   ]
  },
  {
   "cell_type": "code",
   "execution_count": null,
   "id": "reasonable-islam",
   "metadata": {},
   "outputs": [],
   "source": [
    " #Comparing Actual vs Predicted\n",
    "df1 = pd.DataFrame({'Actual': y_test, 'Predicted': y_pred})  \n",
    "df1 "
   ]
  },
  {
   "cell_type": "code",
   "execution_count": null,
   "id": "romantic-canada",
   "metadata": {},
   "outputs": [],
   "source": [
    "reg.score(x_test.reshape(-1,1),y_test)"
   ]
  },
  {
   "cell_type": "code",
   "execution_count": null,
   "id": "indoor-republican",
   "metadata": {},
   "outputs": [],
   "source": [
    "#TAKING NO. OF HOURS STUDENTS ARE STUDYING\n",
    "hours = 9.25\n",
    "#PREDICTING THE MARKS PERCENTAGE THAT A STUDENT IS EXPECTED BASED ON THE INPUTTED HOURS OF STUDIED\n",
    "print(f\"marks scored based on the inputted hours of studying: {reg.predict([[hours]])[0]}\")"
   ]
  },
  {
   "cell_type": "code",
   "execution_count": null,
   "id": "decreased-texas",
   "metadata": {},
   "outputs": [],
   "source": []
  }
 ],
 "metadata": {
  "kernelspec": {
   "display_name": "Python 3",
   "language": "python",
   "name": "python3"
  },
  "language_info": {
   "codemirror_mode": {
    "name": "ipython",
    "version": 3
   },
   "file_extension": ".py",
   "mimetype": "text/x-python",
   "name": "python",
   "nbconvert_exporter": "python",
   "pygments_lexer": "ipython3",
   "version": "3.9.1"
  }
 },
 "nbformat": 4,
 "nbformat_minor": 5
}
